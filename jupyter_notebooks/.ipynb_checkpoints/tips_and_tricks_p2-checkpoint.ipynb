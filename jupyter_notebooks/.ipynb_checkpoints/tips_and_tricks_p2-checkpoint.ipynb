{
 "cells": [
  {
   "cell_type": "markdown",
   "metadata": {},
   "source": [
    "# Tips and Tricks with Jupyter Notebooks\n",
    "\n",
    "## Part 2: Package Management\n",
    "\n",
    "1. View descriptions for installed modules\n",
    "2. Working with Tools for installing Modules\n",
    "3. Tackling interdependencies -> Advanced topic but good to understand\n",
    "4. Outputting Requirements\n",
    "5. Installing Requirements"
   ]
  },
  {
   "cell_type": "code",
   "execution_count": 1,
   "metadata": {},
   "outputs": [
    {
     "ename": "FileNotFoundError",
     "evalue": "[Errno 2] No such file or directory: '../assets/library.jpg'",
     "output_type": "error",
     "traceback": [
      "\u001b[0;31m---------------------------------------------------------------------------\u001b[0m",
      "\u001b[0;31mFileNotFoundError\u001b[0m                         Traceback (most recent call last)",
      "\u001b[0;32m<ipython-input-1-aded0f72f07e>\u001b[0m in \u001b[0;36m<module>\u001b[0;34m\u001b[0m\n\u001b[1;32m      3\u001b[0m \u001b[0;34m\u001b[0m\u001b[0m\n\u001b[1;32m      4\u001b[0m \u001b[0mbasewidth\u001b[0m \u001b[0;34m=\u001b[0m \u001b[0;36m600\u001b[0m\u001b[0;34m\u001b[0m\u001b[0;34m\u001b[0m\u001b[0m\n\u001b[0;32m----> 5\u001b[0;31m \u001b[0mpil_img\u001b[0m \u001b[0;34m=\u001b[0m \u001b[0mImage\u001b[0m\u001b[0;34m.\u001b[0m\u001b[0mopen\u001b[0m\u001b[0;34m(\u001b[0m\u001b[0;34m'../assets/library.jpg'\u001b[0m\u001b[0;34m)\u001b[0m\u001b[0;34m\u001b[0m\u001b[0;34m\u001b[0m\u001b[0m\n\u001b[0m\u001b[1;32m      6\u001b[0m \u001b[0mwpercent\u001b[0m \u001b[0;34m=\u001b[0m \u001b[0;34m(\u001b[0m\u001b[0mbasewidth\u001b[0m\u001b[0;34m/\u001b[0m\u001b[0mfloat\u001b[0m\u001b[0;34m(\u001b[0m\u001b[0mpil_img\u001b[0m\u001b[0;34m.\u001b[0m\u001b[0msize\u001b[0m\u001b[0;34m[\u001b[0m\u001b[0;36m0\u001b[0m\u001b[0;34m]\u001b[0m\u001b[0;34m)\u001b[0m\u001b[0;34m)\u001b[0m\u001b[0;34m\u001b[0m\u001b[0;34m\u001b[0m\u001b[0m\n\u001b[1;32m      7\u001b[0m \u001b[0mhsize\u001b[0m \u001b[0;34m=\u001b[0m \u001b[0mint\u001b[0m\u001b[0;34m(\u001b[0m\u001b[0;34m(\u001b[0m\u001b[0mfloat\u001b[0m\u001b[0;34m(\u001b[0m\u001b[0mpil_img\u001b[0m\u001b[0;34m.\u001b[0m\u001b[0msize\u001b[0m\u001b[0;34m[\u001b[0m\u001b[0;36m1\u001b[0m\u001b[0;34m]\u001b[0m\u001b[0;34m)\u001b[0m\u001b[0;34m*\u001b[0m\u001b[0mfloat\u001b[0m\u001b[0;34m(\u001b[0m\u001b[0mwpercent\u001b[0m\u001b[0;34m)\u001b[0m\u001b[0;34m)\u001b[0m\u001b[0;34m)\u001b[0m\u001b[0;34m\u001b[0m\u001b[0;34m\u001b[0m\u001b[0m\n",
      "\u001b[0;32m~/anaconda3/envs/sklearn_env/lib/python3.7/site-packages/PIL/Image.py\u001b[0m in \u001b[0;36mopen\u001b[0;34m(fp, mode)\u001b[0m\n\u001b[1;32m   2876\u001b[0m \u001b[0;34m\u001b[0m\u001b[0m\n\u001b[1;32m   2877\u001b[0m     \u001b[0;32mif\u001b[0m \u001b[0mfilename\u001b[0m\u001b[0;34m:\u001b[0m\u001b[0;34m\u001b[0m\u001b[0;34m\u001b[0m\u001b[0m\n\u001b[0;32m-> 2878\u001b[0;31m         \u001b[0mfp\u001b[0m \u001b[0;34m=\u001b[0m \u001b[0mbuiltins\u001b[0m\u001b[0;34m.\u001b[0m\u001b[0mopen\u001b[0m\u001b[0;34m(\u001b[0m\u001b[0mfilename\u001b[0m\u001b[0;34m,\u001b[0m \u001b[0;34m\"rb\"\u001b[0m\u001b[0;34m)\u001b[0m\u001b[0;34m\u001b[0m\u001b[0;34m\u001b[0m\u001b[0m\n\u001b[0m\u001b[1;32m   2879\u001b[0m         \u001b[0mexclusive_fp\u001b[0m \u001b[0;34m=\u001b[0m \u001b[0;32mTrue\u001b[0m\u001b[0;34m\u001b[0m\u001b[0;34m\u001b[0m\u001b[0m\n\u001b[1;32m   2880\u001b[0m \u001b[0;34m\u001b[0m\u001b[0m\n",
      "\u001b[0;31mFileNotFoundError\u001b[0m: [Errno 2] No such file or directory: '../assets/library.jpg'"
     ]
    }
   ],
   "source": [
    "from PIL import Image               # to load images\n",
    "from IPython.display import display # to display images\n",
    "\n",
    "basewidth = 600\n",
    "pil_img = Image.open('../assets/library.jpg')\n",
    "wpercent = (basewidth/float(pil_img.size[0]))\n",
    "hsize = int((float(pil_img.size[1])*float(wpercent)))\n",
    "pil_img = pil_img.resize((basewidth,hsize), Image.ANTIALIAS)\n",
    "\n",
    "display(pil_img)"
   ]
  },
  {
   "cell_type": "markdown",
   "metadata": {},
   "source": [
    "Photo by mentatdgt from [Pexels](https://www.pexels.com/photo/library-photo-1319854/)\n",
    "\n",
    "### 1) View descriptions for installed Modules\n",
    "Once the kernel has been configured for your venv, you can see what modules are installed for this via the Anaconda Navigator menu under 'Environments'\n",
    "\n",
    "![](../assets/anaconda_navigator_1.png)\n",
    "\n",
    "Beyond `conda list` to show installed modules, it's nice to see a basic description for these"
   ]
  },
  {
   "cell_type": "markdown",
   "metadata": {},
   "source": [
    "Beyond `conda list` to show installed modules, it's nice to see a basic description for these\n",
    "\n",
    "### 2) Working with Tools for installing Modules\n",
    "\n",
    "Should you use different tools for installing modules, be prepared for potential issues with interdepencies.\n",
    "\n",
    "There are 3 main tools:\n",
    "\n",
    "- conda: Provides the advantage of installing python packages and interpreter directly, as well as from other languages. It integrates pip and can support installations for other languages. \n",
    "- [conda-forge](https://conda-forge.org/) with conda: community-led initiate for providing builds for the conda package manager. \n",
    "- pip: Install packages from the pypi channel - Python Package Index\n",
    "\n",
    "[Further reading on understanding conda and pip](https://www.anaconda.com/blog/understanding-conda-and-pip)\n",
    "\n",
    "\n",
    "### 3) Tackling interdependencies\n",
    "\n",
    "Consider the following example with installing the common data visualization libraries **matplotlib** and then **seaborn**. \n",
    "\n",
    "In this example, the venv has been set up with **python 3.8.5**\n",
    "\n",
    "```\n",
    "(test_env) user@yourmachine: conda install matplotlib <- Installs  v3.3.2\n",
    "\n",
    "(test_env) user@yourmachine: conda install -c conda-forge matplotlib <- Installs v3.3.3 over the top\n",
    "\n",
    "(test_env) user@yourmachine: pip install matplotlib <- Requirements already fulfilled\n",
    "```\n",
    "\n",
    "Now, running `conda list`, we can see **channels** through which example libraries have been installed:\n",
    "\n",
    "```\n",
    "\n",
    "# Name                    Version          Build              Channel\n",
    "matplotlib                3.3.3            py38h578d9bd_0     conda-forge\n",
    "pyqt5-sip                 4.19.18          pypi_0             pypi\n",
    "pyqtchart                 5.12             pypi_0             pypi\n",
    "pyqtwebengine             5.12.1           pypi_0             pypi\n",
    "python                    3.8.6            h852b56e_0_cpython conda-forge\n",
    "```\n",
    "- conda-forge shows potential of working with the most up-to-date version of packages for use with Anaconda\n",
    "- However, in this case, it has led to the surprise of upgrading the python version!!\n",
    "- If you had already set up your ipykernel beforehand, this might upset your kernel in Jupyter\n",
    "\n",
    "\n",
    "**Now** let's see what happens when we try to install seaborn...\n",
    "\n",
    "```\n",
    "(test_env) user@yourmachine: conda install seaborn <- Triggers conflicts\n",
    "\n",
    "(test_env) user@yourmachine: conda install -c conda-forge seaborn -> Installs v0.11.0\n",
    "```\n",
    "\n",
    "If you intend to use conda-forge, check the latest version number for a library corresponds with that on its official website.\n",
    "\n",
    "Keep in mind, not all libaries will work with the latest version of Python!\n",
    "\n",
    "Thus using conda, without conda-forge may feel more safe.\n",
    "\n",
    "\n",
    "### 4) Outputting Requirements\n",
    "\n",
    "Modules can be saved to a requirements.txt file:\n",
    "\n",
    "```\n",
    "(test_env) conda list -e > requirements.txt\n",
    "\n",
    "```\n",
    "\n",
    "Interesting conversation [here](https://stackoverflow.com/questions/50777849/from-conda-create-requirements-txt-for-pip3).\n",
    "\n",
    "\n",
    "### 5) Installing Requirements\n",
    "\n",
    "Once you've set up your venv for a new project, requirements can be installed. \n",
    "\n",
    "Do check the python version for the venv and within the requirements.txt are the same to avoid interdependency conflicts!\n",
    "\n",
    "``` \n",
    "while read requirement; do conda install --yes $requirement; done < requirements.txt\n",
    "```\n",
    "\n",
    "[This method](https://www.technologyscout.net/2017/11/how-to-install-dependencies-from-a-requirements-txt-file-with-conda/) helps ensure all dependencies are installed.\n",
    "\n",
    "[Next | Part 3: Publishing your own resources](https://htmlpreview.github.io/?https://github.com/Kremzeeq/jupyter_notebooks_tips_and_tricks/blob/master/webpages/tips_and_tricks_p2.html)"
   ]
  },
  {
   "cell_type": "markdown",
   "metadata": {},
   "source": [
    "%%html\n",
    "<style>\n",
    "div.input {\n",
    "    display:none;\n",
    "}\n",
    "</style>"
   ]
  }
 ],
 "metadata": {
  "kernelspec": {
   "display_name": "sklearn_env",
   "language": "python",
   "name": "sklearn_env"
  },
  "language_info": {
   "codemirror_mode": {
    "name": "ipython",
    "version": 3
   },
   "file_extension": ".py",
   "mimetype": "text/x-python",
   "name": "python",
   "nbconvert_exporter": "python",
   "pygments_lexer": "ipython3",
   "version": "3.7.5"
  }
 },
 "nbformat": 4,
 "nbformat_minor": 4
}
